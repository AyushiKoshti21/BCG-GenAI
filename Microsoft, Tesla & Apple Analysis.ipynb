{
 "cells": [
  {
   "cell_type": "code",
   "execution_count": 1,
   "id": "17d879d4",
   "metadata": {},
   "outputs": [
    {
     "name": "stdout",
     "output_type": "stream",
     "text": [
      "  Company Name  Year  Total Revenue  Net Income  Total Assets  \\\n",
      "0    Microsoft  2023         211915       72361      411976.0   \n",
      "1    Microsoft  2022         198270       72738      364840.0   \n",
      "2    Microsoft  2021         168088       61271           0.0   \n",
      "3        Tesla  2023          96773       14974      106618.0   \n",
      "4        Tesla  2022          81462       12587       82338.0   \n",
      "5        Tesla  2021          53823        5644           0.0   \n",
      "6        Apple  2023         383285       96995      352583.0   \n",
      "7        Apple  2022         394328       99803      352755.0   \n",
      "8        Apple  2021         365817       94680           0.0   \n",
      "\n",
      "   Total Liabilities  Cash Flow from Operating Activities  Revenue Growth (%)  \\\n",
      "0           205753.0                                87582            0.000000   \n",
      "1           198298.0                                89035           -6.438902   \n",
      "2                0.0                                76740          -15.222676   \n",
      "3            43009.0                                13256            0.000000   \n",
      "4            36440.0                                14724          -15.821562   \n",
      "5                0.0                                11497          -33.928703   \n",
      "6           290437.0                               110543            0.000000   \n",
      "7           302083.0                               122151            2.881146   \n",
      "8                0.0                               104038           -7.230275   \n",
      "\n",
      "   Net Income Growth (%)  \n",
      "0               0.000000  \n",
      "1               0.520999  \n",
      "2             -15.764800  \n",
      "3               0.000000  \n",
      "4             -15.940964  \n",
      "5             -55.160086  \n",
      "6               0.000000  \n",
      "7               2.894995  \n",
      "8              -5.133112  \n",
      "\n",
      "Year-over-Year Average Growth Rates (%):\n",
      "  Company Name  Revenue Growth (%)  Net Income Growth (%)\n",
      "0        Apple           -1.449710              -0.746039\n",
      "1    Microsoft           -7.220526              -5.081267\n",
      "2        Tesla          -16.583422             -23.700350\n"
     ]
    }
   ],
   "source": [
    "import pandas as pd\n",
    "\n",
    "file_path = 'Merge_file.xlsx'\n",
    "df = pd.read_excel('Merge_file.xlsx')\n",
    "\n",
    "df['Revenue Growth (%)'] = df.groupby('Company Name')['Total Revenue'].pct_change() * 100\n",
    "df['Net Income Growth (%)'] = df.groupby('Company Name')['Net Income'].pct_change() * 100\n",
    "\n",
    "df.fillna(0, inplace=True)\n",
    "\n",
    "print(df)\n",
    "\n",
    "summary = df.groupby('Company Name').agg({'Revenue Growth (%)': 'mean','Net Income Growth (%)': 'mean'}).reset_index()\n",
    "\n",
    "print(\"\\nYear-over-Year Average Growth Rates (%):\")\n",
    "print(summary)"
   ]
  },
  {
   "cell_type": "code",
   "execution_count": 17,
   "id": "4de32186",
   "metadata": {},
   "outputs": [],
   "source": [
    "def simple_chatbot(user_query):\n",
    "    if user_query == \"What is the total revenue?\":\n",
    "        return \"The total revenue is 19,53,761.\"\n",
    "    elif user_query == \"How has net income changed over the last year?\":\n",
    "        return \"The net income has decreased by 1,56,806 over the last year.\"\n",
    "    elif user_query == \"What are the total assets of Apple for 2022?\":\n",
    "        return \"The total assets of Apple for 2022 is 3,52,755.\"\n",
    "    elif user_query == \"What is the trend in total liabilities for Microsoft over the past three years?\":\n",
    "        return \"The total liabilities for Microsoft over the past three years is 4,04,051.\"\n",
    "    elif user_query == \"How has the cash flow from operating activities for Tesla over the last three years?\":\n",
    "        return \"The cash flow from operating activities for Tesla over the last three years is 39,477.\"\n",
    "    else:\n",
    "        return \"Sorry, I can only provide information on predefined queries.\""
   ]
  },
  {
   "cell_type": "code",
   "execution_count": null,
   "id": "1a73c298",
   "metadata": {},
   "outputs": [],
   "source": []
  }
 ],
 "metadata": {
  "kernelspec": {
   "display_name": "Python 3 (ipykernel)",
   "language": "python",
   "name": "python3"
  },
  "language_info": {
   "codemirror_mode": {
    "name": "ipython",
    "version": 3
   },
   "file_extension": ".py",
   "mimetype": "text/x-python",
   "name": "python",
   "nbconvert_exporter": "python",
   "pygments_lexer": "ipython3",
   "version": "3.11.5"
  }
 },
 "nbformat": 4,
 "nbformat_minor": 5
}

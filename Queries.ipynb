{
 "cells": [
  {
   "cell_type": "code",
   "execution_count": null,
   "id": "2a2cbecc",
   "metadata": {},
   "outputs": [],
   "source": [
    "def simple_chatbot(user_query):\n",
    "    if user_query == \"What is the total revenue?\":\n",
    "        return \"The total revenue is 19,53,761.\"\n",
    "    elif user_query == \"How has net income changed over the last year?\":\n",
    "        return \"The net income has decreased by 1,56,806 over the last year.\"\n",
    "    elif user_query == \"What are the total assets of Apple for 2022?\":\n",
    "        return \"The total assets of Apple for 2022 is 3,52,755.\"\n",
    "    elif user_query == \"What is the trend in total liabilities for Microsoft over the past three years?\":\n",
    "        return \"The total liabilities for Microsoft over the past three years is 4,04,051.\"\n",
    "    elif user_query == \"How has the cash flow from operating activities for Tesla over the last three years?\":\n",
    "        return \"The cash flow from operating activities for Tesla over the last three years is 39,477.\"\n",
    "    else:\n",
    "        return \"Sorry, I can only provide information on predefined queries.\""
   ]
  }
 ],
 "metadata": {
  "kernelspec": {
   "display_name": "Python 3 (ipykernel)",
   "language": "python",
   "name": "python3"
  },
  "language_info": {
   "codemirror_mode": {
    "name": "ipython",
    "version": 3
   },
   "file_extension": ".py",
   "mimetype": "text/x-python",
   "name": "python",
   "nbconvert_exporter": "python",
   "pygments_lexer": "ipython3",
   "version": "3.11.5"
  }
 },
 "nbformat": 4,
 "nbformat_minor": 5
}
